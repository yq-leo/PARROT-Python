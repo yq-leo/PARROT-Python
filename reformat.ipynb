{
 "cells": [
  {
   "cell_type": "code",
   "execution_count": 14,
   "id": "9a7f2329-fff8-48c8-83cc-65785861db06",
   "metadata": {},
   "outputs": [],
   "source": [
    "import scipy.io as sio\n",
    "from scipy.sparse import csc_matrix\n",
    "import numpy as np\n",
    "import os"
   ]
  },
  {
   "cell_type": "code",
   "execution_count": null,
   "id": "c5d6b247-74ae-4c1d-8158-489d19d34b0d",
   "metadata": {},
   "outputs": [],
   "source": [
    "def reformat_data_to_mat(dataset, graph1, graph2, gnd_name, ratio):\n",
    "    data = sio.loadmat(f\"datasets/mat/{dataset}.mat\")\n",
    "\n",
    "    new_data = {}\n",
    "    new_data[graph1] = data[graph1]\n",
    "    new_data[graph2] = data[graph2]\n",
    "    new_data[f'{graph1}_node_feat'] = data[f'{graph1}_node_label']\n",
    "    new_data[f'{graph2}_node_feat'] = data[f'{graph2}_node_label']\n",
    "    new_data['gnd'] = data[gnd_name]\n",
    "\n",
    "    n1, n2 = data['n1'][0][0], data['n2'][0][0]\n",
    "    gnd = data[gnd_name]\n",
    "    np.random.seed(1234)\n",
    "    train_indices = np.random.choice(gnd.shape[0], int(gnd.shape[0] * ratio), replace=False)\n",
    "    train_indices.sort()\n",
    "    train = gnd[train_indices] - 1\n",
    "    H = np.zeros((n1, n2))\n",
    "    H[(train[:, 0], train[:, 1])] = 1\n",
    "    new_data['H'] = csc_matrix(H.T)\n",
    "\n",
    "    sio.savemat(f\"datasets/{dataset}.mat\", new_data)"
   ]
  },
  {
   "cell_type": "code",
   "execution_count": null,
   "id": "a22687f5-dbfb-455c-9c4e-6106ec984f76",
   "metadata": {},
   "outputs": [],
   "source": [
    "reformat_data_to_mat(\"Douban\", \"online\", \"offline\", \"ground_truth\", 0.2)"
   ]
  },
  {
   "cell_type": "code",
   "execution_count": null,
   "id": "6d4c6632-9e9e-4f3d-9344-394da3609c5c",
   "metadata": {},
   "outputs": [],
   "source": [
    "reformat_data_to_mat(\"flickr-lastfm\", \"flickr\", \"lastfm\", \"gndtruth\", 0.2)"
   ]
  },
  {
   "cell_type": "code",
   "execution_count": 47,
   "id": "5eb60752-221b-4d3d-8e39-35db0f083cde",
   "metadata": {},
   "outputs": [],
   "source": [
    "def reformat_data_to_np(dataset, graph1, graph2):\n",
    "    def setdiff(a, b):\n",
    "        \"\"\"\n",
    "        Find the difference of two 2D arrays by excluding common rows.\n",
    "        \n",
    "        :param a: array 1 (n1 x 2)\n",
    "        :param b: array 2 (n2 x 2)\n",
    "        :return: c: difference of a and b (n3 x 2)\n",
    "        \"\"\"\n",
    "        # Convert the input arrays to structured arrays\n",
    "        dtype = [('col1', a.dtype), ('col2', a.dtype)]\n",
    "        structured_a = np.array([tuple(row) for row in a], dtype=dtype)\n",
    "        structured_b = np.array([tuple(row) for row in b], dtype=dtype)\n",
    "        \n",
    "        # Find the difference using set operations\n",
    "        structured_diff = np.setdiff1d(structured_a, structured_b)\n",
    "        \n",
    "        # Convert the structured array back to a regular 2D array\n",
    "        diff = np.array([list(item) for item in structured_diff])\n",
    "        \n",
    "        return diff\n",
    "    \n",
    "    data = sio.loadmat(f\"datasets/{dataset}.mat\")\n",
    "\n",
    "    A1, A2 = data[graph1].astype(int), data[graph2].astype(int)\n",
    "    H, gnd = data['H'].astype(int), data['gnd'].astype(np.int64) - 1\n",
    "    x1, x2 = None, None\n",
    "    if f'{graph1}_node_feat' in data:\n",
    "        x1 = data[f'{graph1}_node_feat'].astype(np.float64)\n",
    "        if type(x1) is not np.ndarray:\n",
    "            x1 = x1.A\n",
    "    if f'{graph2}_node_feat' in data:\n",
    "        x2 = data[f'{graph2}_node_feat'].astype(np.float64)\n",
    "        if type(x2) is not np.ndarray:\n",
    "            x2 = x2.A\n",
    "    \n",
    "    if type(A1) is not np.ndarray:\n",
    "        A1 = A1.A\n",
    "    if type(A2) is not np.ndarray:\n",
    "        A2 = A2.A\n",
    "    if type(H) is not np.ndarray:\n",
    "        H = H.A\n",
    "    \n",
    "    edge_index1 = np.array(np.where(A1 == 1))\n",
    "    edge_index2 = np.array(np.where(A2 == 1))\n",
    "    print(\"edge_index1: \", edge_index1.shape)\n",
    "    print(\"edge_index2: \", edge_index2.shape)\n",
    "\n",
    "    anchor_links = np.array(np.where(H.T == 1)).T\n",
    "    test_pairs = setdiff(gnd, anchor_links)\n",
    "    print(\"anchor_links: \", anchor_links.shape)\n",
    "    print(\"test_pairs: \", test_pairs.shape)\n",
    "\n",
    "    if not os.path.exists(\"datasets/np\"):\n",
    "        os.mkdir(\"datasets/np\")\n",
    "    np.savez(f'datasets/np/{dataset}.npz', edge_index1=edge_index1, edge_index2=edge_index2, x1=x1, x2=x2, pos_pairs=anchor_links, test_pairs=test_pairs)"
   ]
  },
  {
   "cell_type": "code",
   "execution_count": 41,
   "id": "253b25dd-4335-40cb-ba02-3ff4bc2f1a00",
   "metadata": {},
   "outputs": [
    {
     "name": "stdout",
     "output_type": "stream",
     "text": [
      "edge_index1:  (2, 79122)\n",
      "edge_index2:  (2, 89616)\n",
      "anchor_links:  (1265, 2)\n",
      "test_pairs:  (5060, 2)\n"
     ]
    }
   ],
   "source": [
    "reformat_data_to_np(\"ACM-DBLP-A\", \"ACM\", \"DBLP\")"
   ]
  },
  {
   "cell_type": "code",
   "execution_count": 48,
   "id": "0e2064bc-b89f-4914-9e41-36492d92f8f5",
   "metadata": {},
   "outputs": [
    {
     "name": "stdout",
     "output_type": "stream",
     "text": [
      "edge_index1:  (2, 108466)\n",
      "edge_index2:  (2, 261150)\n",
      "anchor_links:  (321, 2)\n",
      "test_pairs:  (1288, 2)\n"
     ]
    }
   ],
   "source": [
    "reformat_data_to_np(\"foursquare-twitter\", \"foursquare\", \"twitter\")"
   ]
  },
  {
   "cell_type": "code",
   "execution_count": 49,
   "id": "38d9fce8-645d-4832-b03a-e19c71310726",
   "metadata": {},
   "outputs": [
    {
     "name": "stdout",
     "output_type": "stream",
     "text": [
      "edge_index1:  (2, 12668)\n",
      "edge_index2:  (2, 9084)\n",
      "anchor_links:  (541, 2)\n",
      "test_pairs:  (2167, 2)\n"
     ]
    }
   ],
   "source": [
    "reformat_data_to_np(\"cora\", \"cora1\", \"cora2\")"
   ]
  },
  {
   "cell_type": "code",
   "execution_count": 50,
   "id": "b13107a5-8039-40b9-a3ed-63525b3a7bea",
   "metadata": {},
   "outputs": [
    {
     "name": "stdout",
     "output_type": "stream",
     "text": [
      "edge_index1:  (2, 82382)\n",
      "edge_index2:  (2, 9255)\n",
      "anchor_links:  (200, 2)\n",
      "test_pairs:  (800, 2)\n"
     ]
    }
   ],
   "source": [
    "reformat_data_to_np(\"phone-email\", \"phone\", \"email\")"
   ]
  }
 ],
 "metadata": {
  "kernelspec": {
   "display_name": "Python 3 (ipykernel)",
   "language": "python",
   "name": "python3"
  },
  "language_info": {
   "codemirror_mode": {
    "name": "ipython",
    "version": 3
   },
   "file_extension": ".py",
   "mimetype": "text/x-python",
   "name": "python",
   "nbconvert_exporter": "python",
   "pygments_lexer": "ipython3",
   "version": "3.9.6"
  }
 },
 "nbformat": 4,
 "nbformat_minor": 5
}
