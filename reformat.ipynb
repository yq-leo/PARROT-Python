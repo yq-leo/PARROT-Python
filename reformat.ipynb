{
 "cells": [
  {
   "cell_type": "code",
   "execution_count": 1,
   "id": "9a7f2329-fff8-48c8-83cc-65785861db06",
   "metadata": {},
   "outputs": [],
   "source": [
    "import scipy.io as sio\n",
    "from scipy.sparse import csc_matrix\n",
    "import numpy as np"
   ]
  },
  {
   "cell_type": "code",
   "execution_count": 2,
   "id": "c5d6b247-74ae-4c1d-8158-489d19d34b0d",
   "metadata": {},
   "outputs": [],
   "source": [
    "def reformat_data_to_mat(dataset, graph1, graph2, gnd_name, ratio):\n",
    "    data = sio.loadmat(f\"datasets/mat/{dataset}.mat\")\n",
    "\n",
    "    new_data = {}\n",
    "    new_data[graph1] = data[graph1]\n",
    "    new_data[graph2] = data[graph2]\n",
    "    new_data[f'{graph1}_node_feat'] = data[f'{graph1}_node_label']\n",
    "    new_data[f'{graph2}_node_feat'] = data[f'{graph2}_node_label']\n",
    "    new_data['gnd'] = data[gnd_name]\n",
    "\n",
    "    n1, n2 = data['n1'][0][0], data['n2'][0][0]\n",
    "    gnd = data[gnd_name]\n",
    "    np.random.seed(1234)\n",
    "    train_indices = np.random.choice(gnd.shape[0], int(gnd.shape[0] * ratio), replace=False)\n",
    "    train_indices.sort()\n",
    "    train = gnd[train_indices] - 1\n",
    "    H = np.zeros((n1, n2))\n",
    "    H[(train[:, 0], train[:, 1])] = 1\n",
    "    new_data['H'] = csc_matrix(H.T)\n",
    "\n",
    "    sio.savemat(f\"datasets/{dataset}.mat\", new_data)"
   ]
  },
  {
   "cell_type": "code",
   "execution_count": 3,
   "id": "a22687f5-dbfb-455c-9c4e-6106ec984f76",
   "metadata": {},
   "outputs": [],
   "source": [
    "reformat_data_to_mat(\"Douban\", \"online\", \"offline\", \"ground_truth\", 0.2)"
   ]
  },
  {
   "cell_type": "code",
   "execution_count": 4,
   "id": "6d4c6632-9e9e-4f3d-9344-394da3609c5c",
   "metadata": {},
   "outputs": [],
   "source": [
    "reformat_data_to_mat(\"flickr-lastfm\", \"flickr\", \"lastfm\", \"gndtruth\", 0.2)"
   ]
  },
  {
   "cell_type": "code",
   "execution_count": null,
   "id": "5eb60752-221b-4d3d-8e39-35db0f083cde",
   "metadata": {},
   "outputs": [],
   "source": []
  }
 ],
 "metadata": {
  "kernelspec": {
   "display_name": "Python 3 (ipykernel)",
   "language": "python",
   "name": "python3"
  },
  "language_info": {
   "codemirror_mode": {
    "name": "ipython",
    "version": 3
   },
   "file_extension": ".py",
   "mimetype": "text/x-python",
   "name": "python",
   "nbconvert_exporter": "python",
   "pygments_lexer": "ipython3",
   "version": "3.9.6"
  }
 },
 "nbformat": 4,
 "nbformat_minor": 5
}
