{
 "cells": [
  {
   "cell_type": "code",
   "execution_count": 36,
   "id": "fafce106-585c-4dde-abe4-145e1ef68d78",
   "metadata": {},
   "outputs": [],
   "source": [
    "import numpy as np\n",
    "from scipy.optimize import linprog\n",
    "from sklearn.preprocessing import normalize\n",
    "from scipy.special import softmax"
   ]
  },
  {
   "cell_type": "code",
   "execution_count": 39,
   "id": "a5d8c044-59c5-4d3c-a910-2b6437bab7b2",
   "metadata": {},
   "outputs": [],
   "source": [
    "def demo_wasserstein(C, p, q):\n",
    "    \"\"\"\n",
    "    Computes order-2 Wasserstein distance between two\n",
    "    discrete distributions.\n",
    "\n",
    "    Parameters\n",
    "    ----------\n",
    "    x : ndarray, has shape (num_bins, dimension)\n",
    "    \n",
    "        Locations of discrete atoms (or \"spatial bins\")\n",
    "\n",
    "    p : ndarray, has shape (num_bins,)\n",
    "\n",
    "        Probability mass of the first distribution on each atom.\n",
    "\n",
    "    q : ndarray, has shape (num_bins,)\n",
    "\n",
    "        Probability mass of the second distribution on each atom.\n",
    "\n",
    "    Returns\n",
    "    -------\n",
    "    dist : float\n",
    "\n",
    "        The Wasserstein distance between the two distributions.\n",
    "\n",
    "    T : ndarray, has shape (num_bins, num_bins)\n",
    "\n",
    "        Optimal transport plan. Satisfies p == T.sum(axis=0)\n",
    "        and q == T.sum(axis=1).\n",
    "\n",
    "    Note\n",
    "    ----\n",
    "    This function is meant for demo purposes only and is not\n",
    "    optimized for speed. It should still work reasonably well\n",
    "    for moderately sized problems.\n",
    "    \"\"\"\n",
    "\n",
    "    # Check inputs.\n",
    "    if (abs(p.sum() - 1) > 1e-9) or (abs(p.sum() - q.sum()) > 1e-9):\n",
    "        raise ValueError(\"Expected normalized probability masses.\")\n",
    "\n",
    "    if np.any(p < 0) or np.any(q < 0):\n",
    "        raise ValueError(\"Expected nonnegative mass vectors.\")\n",
    "\n",
    "    # Scipy's linear programming solver will accept the problem in\n",
    "    # the following form:\n",
    "    # \n",
    "    # minimize     c @ t        over t\n",
    "    # subject to   A @ t == b\n",
    "    #\n",
    "    # where we specify the vectors c, b and the matrix A as parameters.\n",
    "\n",
    "    n = p.shape[0]\n",
    "\n",
    "    # Construct matrices Ap and Aq encoding marginal constraints.\n",
    "    # We want (Ap @ t == p) and (Aq @ t == q).\n",
    "    Ap, Aq = [], []\n",
    "    z = np.zeros((n, n))\n",
    "    z[:, 0] = 1\n",
    "\n",
    "    for i in range(n):\n",
    "        Ap.append(z.ravel())\n",
    "        Aq.append(z.transpose().ravel())\n",
    "        z = np.roll(z, 1, axis=1)\n",
    "\n",
    "    # We can leave off the final constraint, as it is redundant.\n",
    "    # See Remark 3.1 in Peyre & Cuturi (2019).\n",
    "    A = np.row_stack((Ap, Aq))[:-1]\n",
    "    b = np.concatenate((p, q))[:-1]\n",
    "\n",
    "    # Solve linear program, recover optimal vector t.\n",
    "    result = linprog(C.ravel(), A_eq=A, b_eq=b)\n",
    "\n",
    "    # Reshape optimal vector into (n x n) transport plan matrix T.\n",
    "    T = result.x.reshape((n, n))\n",
    "\n",
    "    # Return Wasserstein distance and transport plan.\n",
    "    return np.sqrt(np.sum(T * C)), T"
   ]
  },
  {
   "cell_type": "code",
   "execution_count": 46,
   "id": "a000f9cf-af88-4159-b85c-e5d03a76b0fe",
   "metadata": {},
   "outputs": [
    {
     "name": "stdout",
     "output_type": "stream",
     "text": [
      "[[0.24969775 0.20334606 0.18317224 0.36219512]\n",
      " [0.25509438 0.41279582 0.15100273 0.21185156]\n",
      " [0.24319072 0.19432607 0.33447714 0.21311212]\n",
      " [0.25201715 0.18953205 0.33134789 0.21284119]]\n"
     ]
    }
   ],
   "source": [
    "C = np.array([[1, 2, 3, 4],\n",
    "              [0.3, 3, 0.1, 1],\n",
    "              [0.00002, 2, 5, 3],\n",
    "              [1, 0.1, 4, 2]])\n",
    "C = softmax(softmax(C, axis=1), axis=0)\n",
    "print(C)\n",
    "p = np.ones(4) / 4\n",
    "q = np.ones(4) / 4"
   ]
  },
  {
   "cell_type": "code",
   "execution_count": 43,
   "id": "82d0bb44-da83-40eb-a985-08defeb824dd",
   "metadata": {},
   "outputs": [
    {
     "data": {
      "text/plain": [
       "(1.0124253058868098,\n",
       " array([[-0.  , -0.  ,  0.25,  0.  ],\n",
       "        [ 0.  ,  0.  , -0.  ,  0.25],\n",
       "        [ 0.25,  0.  ,  0.  ,  0.  ],\n",
       "        [ 0.  ,  0.25,  0.  ,  0.  ]]))"
      ]
     },
     "execution_count": 43,
     "metadata": {},
     "output_type": "execute_result"
    }
   ],
   "source": [
    "demo_wasserstein(C, p, q)"
   ]
  },
  {
   "cell_type": "code",
   "execution_count": null,
   "id": "31397371-db95-413d-9ca2-2bae51f5e89f",
   "metadata": {},
   "outputs": [],
   "source": []
  },
  {
   "cell_type": "code",
   "execution_count": null,
   "id": "2fe48cef-2ea6-463b-ba50-ea472fe0733f",
   "metadata": {},
   "outputs": [],
   "source": []
  }
 ],
 "metadata": {
  "kernelspec": {
   "display_name": "Python 3 (ipykernel)",
   "language": "python",
   "name": "python3"
  },
  "language_info": {
   "codemirror_mode": {
    "name": "ipython",
    "version": 3
   },
   "file_extension": ".py",
   "mimetype": "text/x-python",
   "name": "python",
   "nbconvert_exporter": "python",
   "pygments_lexer": "ipython3",
   "version": "3.9.6"
  }
 },
 "nbformat": 4,
 "nbformat_minor": 5
}
